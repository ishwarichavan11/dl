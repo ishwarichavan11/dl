{
 "cells": [
  {
   "cell_type": "code",
   "execution_count": 2,
   "id": "104787a1",
   "metadata": {},
   "outputs": [],
   "source": [
    "import random\n",
    "import matplotlib\n",
    "import matplotlib.pyplot as plt"
   ]
  },
  {
   "cell_type": "code",
   "execution_count": 3,
   "id": "7f8a8692",
   "metadata": {},
   "outputs": [],
   "source": [
    "class Net:\n",
    "    def __init__(self):        \n",
    "        self.w1 = 0\n",
    "        self.w2 = 0\n",
    "        self.b = 0\n",
    "        \n",
    "    def forward(self, train):    \n",
    "        wsum = self.w1 * train[0] + self.w2 * train[1] + self.b\n",
    "        pred = 1 if wsum >= 0 else 0\n",
    "        return (pred, wsum)"
   ]
  },
  {
   "cell_type": "code",
   "execution_count": 4,
   "id": "8592c6be",
   "metadata": {},
   "outputs": [],
   "source": [
    "gates = {'and':  [[(0, 0), (0, 1), (1, 0), (1, 1)], [0, 0, 0, 1]],\n",
    "         'or':   [[(0, 0), (0, 1), (1, 0), (1, 1)], [0, 1, 1, 1]],\n",
    "         'nand': [[(0, 0), (0, 1), (1, 0), (1, 1)], [1, 1, 1, 0]],\n",
    "         'nor':  [[(0, 0), (0, 1), (1, 0), (1, 1)], [1, 0, 0, 0]]}"
   ]
  },
  {
   "cell_type": "code",
   "execution_count": 5,
   "id": "2a15dea7",
   "metadata": {},
   "outputs": [],
   "source": [
    "def nn(data):\n",
    "    x, y = data[0], data[1]\n",
    "\n",
    "    net = Net()\n",
    "    learning_rate = 0.1\n",
    "\n",
    "    epoch = 40\n",
    "    for i in range(epoch):\n",
    "        index = random.randint(0, 3)\n",
    "        train = x[index]\n",
    "        test = y[index]\n",
    "\n",
    "        predicted, wsum = net.forward(train)  \n",
    "        expected = test\n",
    "\n",
    "        net.w1 += learning_rate * (expected - predicted) * train[0]\n",
    "        net.w2 += learning_rate * (expected - predicted) * train[1]\n",
    "        net.b += learning_rate * (expected - predicted)\n",
    "     \n",
    "    print('model trained!')\n",
    "    print('testing-->')\n",
    "    for i, j in zip(x, y):\n",
    "        predicted = net.forward(i)[0]\n",
    "        print(i, ' = ', predicted, end = ' ')\n",
    "        print('(correct)') if predicted == j else print('(wrong)')"
   ]
  },
  {
   "cell_type": "code",
   "execution_count": 8,
   "id": "3ac509ae",
   "metadata": {},
   "outputs": [
    {
     "name": "stdout",
     "output_type": "stream",
     "text": [
      "model trained!\n",
      "testing-->\n",
      "(0, 0)  =  0 (correct)\n",
      "(0, 1)  =  1 (correct)\n",
      "(1, 0)  =  1 (correct)\n",
      "(1, 1)  =  1 (correct)\n"
     ]
    }
   ],
   "source": [
    "nn(gates['or'])"
   ]
  },
  {
   "cell_type": "code",
   "execution_count": null,
   "id": "e3100c58",
   "metadata": {},
   "outputs": [],
   "source": []
  },
  {
   "cell_type": "code",
   "execution_count": null,
   "id": "f88c675b",
   "metadata": {},
   "outputs": [],
   "source": []
  }
 ],
 "metadata": {
  "kernelspec": {
   "display_name": "Python 3 (ipykernel)",
   "language": "python",
   "name": "python3"
  },
  "language_info": {
   "codemirror_mode": {
    "name": "ipython",
    "version": 3
   },
   "file_extension": ".py",
   "mimetype": "text/x-python",
   "name": "python",
   "nbconvert_exporter": "python",
   "pygments_lexer": "ipython3",
   "version": "3.9.13"
  }
 },
 "nbformat": 4,
 "nbformat_minor": 5
}
